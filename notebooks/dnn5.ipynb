{
 "cells": [
  {
   "cell_type": "markdown",
   "metadata": {},
   "source": [
    "# Deep Neural Network with 5 Input Features\n",
    "\n",
    "In this notebook we will train a deep neural network using 5 input feature to perform binary classification of our dataset."
   ]
  },
  {
   "cell_type": "markdown",
   "metadata": {},
   "source": [
    "## Setup\n",
    "\n",
    "We first need to import the libraries and frameworks to help us create and train our model. \n",
    "\n",
    "- Numpy will allow us to manipulate our input data\n",
    "- Matplotlib gives us easy graphs to visualize performance\n",
    "- Sklearn helps us with data normalization and shuffling\n",
    "- Keras is our deep learning frameworks which makes it easy to create and train our model"
   ]
  },
  {
   "cell_type": "code",
   "execution_count": 1,
   "metadata": {},
   "outputs": [],
   "source": [
    "#!bin/env/python3\n",
    "import numpy as np\n",
    "import matplotlib.pyplot as plt\n",
    "\n",
    "from sklearn.preprocessing import Normalizer\n",
    "from sklearn.utils import shuffle\n",
    "\n",
    "from tensorflow.keras import models\n",
    "from tensorflow.keras import layers"
   ]
  },
  {
   "cell_type": "markdown",
   "metadata": {},
   "source": [
    "## Load Data\n",
    "\n",
    "Here we load the numpy array that we create previously. Let's check the dimension to make sure they are correctly formatted."
   ]
  },
  {
   "cell_type": "code",
   "execution_count": 3,
   "metadata": {},
   "outputs": [
    {
     "name": "stdout",
     "output_type": "stream",
     "text": [
      "X: (3559, 30)\n",
      "Y: (3559,)\n"
     ]
    }
   ],
   "source": [
    "X = np.load(\"../db/x3.npy\")\n",
    "Y = np.load(\"../db/y3.npy\")\n",
    "\n",
    "print(\"X: \" + str(X.shape))\n",
    "print(\"Y: \" + str(Y.shape))"
   ]
  },
  {
   "cell_type": "markdown",
   "metadata": {},
   "source": [
    "## Data Preparation\n",
    "\n",
    "The neural network will perform better during training if data is normalized. We also want to shuffle the inputs to avoid training out model on a skewed dataset."
   ]
  },
  {
   "cell_type": "code",
   "execution_count": 30,
   "metadata": {},
   "outputs": [],
   "source": [
    "transformer = Normalizer().fit(X)\n",
    "X = transformer.transform(X) # normalizes data according to columns\n",
    "X, Y = shuffle(X, Y, random_state=0) # shuffle the samples"
   ]
  },
  {
   "cell_type": "markdown",
   "metadata": {},
   "source": [
    "## Training - Test Split\n",
    "\n",
    "Ideally we would split our dataset into a training, validation and test set. For this example we will only use a training and validation set. The training set will have 3000 samples and the validation set will contain the remaining samples."
   ]
  },
  {
   "cell_type": "code",
   "execution_count": 8,
   "metadata": {},
   "outputs": [
    {
     "name": "stdout",
     "output_type": "stream",
     "text": [
      "Input training tensor: (3000, 30)\n",
      "Label training tensor: (3000,)\n",
      "\n",
      "Input validation tensor: (559, 30)\n",
      "Label validation tensor: (559,)\n"
     ]
    }
   ],
   "source": [
    "X_train = X[:3000]\n",
    "Y_train = Y[:3000]\n",
    "\n",
    "\n",
    "X_test = X[3000:]\n",
    "Y_test = Y[3000:]\n",
    "\n",
    "# 3000 training samples\n",
    "print(\"Input training tensor: \" + str(X_train.shape))\n",
    "print(\"Label training tensor: \" + str(Y_train.shape) + \"\\n\")\n",
    "\n",
    "# 559 test/validation samples\n",
    "print(\"Input validation tensor: \" + str(X_test.shape))\n",
    "print(\"Label validation tensor: \" + str(Y_test.shape))"
   ]
  },
  {
   "cell_type": "markdown",
   "metadata": {},
   "source": [
    "## Defining our model\n",
    "\n",
    "Here we finally create our model which in this case will be fully connected deep neural network with three hidden layer and a dropout layer. \n",
    "\n",
    "We also choose an optimizer (RMSprop), a loss function (binary crossentropy) and our metric for evaluation (accuracy).\n",
    "\n",
    "We can also take a look at the size of our model"
   ]
  },
  {
   "cell_type": "code",
   "execution_count": 36,
   "metadata": {},
   "outputs": [],
   "source": [
    "nn = models.Sequential()\n",
    "nn.add(layers.Dense(200, activation='relu', input_shape=(30,)))\n",
    "nn.add(layers.Dense(100, activation='relu'))\n",
    "nn.add(layers.Dropout(0.5))\n",
    "nn.add(layers.Dense(1, activation='sigmoid'))\n",
    "\n",
    "nn.compile(\n",
    "        optimizer='rmsprop',\n",
    "        loss='binary_crossentropy',\n",
    "        metrics=['accuracy']\n",
    "        )"
   ]
  },
  {
   "cell_type": "markdown",
   "metadata": {},
   "source": [
    "# Training\n",
    "\n",
    "Here we actually train the model we defined above. We can specify the batch size (30) and the number of epochs. We also specify the validation set to evaluate how our model performs on data it has never seen after each epochs. This is important so that we can identify when the model begin to overfit to the training data"
   ]
  },
  {
   "cell_type": "code",
   "execution_count": 39,
   "metadata": {},
   "outputs": [
    {
     "name": "stdout",
     "output_type": "stream",
     "text": [
      "Epoch 1/100\n",
      "100/100 [==============================] - 0s 3ms/step - loss: 0.5304 - accuracy: 0.7343 - val_loss: 0.5210 - val_accuracy: 0.7388\n",
      "Epoch 2/100\n",
      "100/100 [==============================] - 0s 2ms/step - loss: 0.5268 - accuracy: 0.7317 - val_loss: 0.5168 - val_accuracy: 0.7335\n",
      "Epoch 3/100\n",
      "100/100 [==============================] - 0s 2ms/step - loss: 0.5301 - accuracy: 0.7383 - val_loss: 0.5056 - val_accuracy: 0.7388\n",
      "Epoch 4/100\n",
      "100/100 [==============================] - 0s 2ms/step - loss: 0.5255 - accuracy: 0.7370 - val_loss: 0.5317 - val_accuracy: 0.7209\n",
      "Epoch 5/100\n",
      "100/100 [==============================] - 0s 2ms/step - loss: 0.5307 - accuracy: 0.7373 - val_loss: 0.5211 - val_accuracy: 0.7388\n",
      "Epoch 6/100\n",
      "100/100 [==============================] - 0s 2ms/step - loss: 0.5253 - accuracy: 0.7393 - val_loss: 0.5217 - val_accuracy: 0.7191\n",
      "Epoch 7/100\n",
      "100/100 [==============================] - 0s 2ms/step - loss: 0.5268 - accuracy: 0.7387 - val_loss: 0.5022 - val_accuracy: 0.7370\n",
      "Epoch 8/100\n",
      "100/100 [==============================] - 0s 2ms/step - loss: 0.5271 - accuracy: 0.7447 - val_loss: 0.4996 - val_accuracy: 0.7442\n",
      "Epoch 9/100\n",
      "100/100 [==============================] - 0s 2ms/step - loss: 0.5288 - accuracy: 0.7443 - val_loss: 0.5300 - val_accuracy: 0.7299\n",
      "Epoch 10/100\n",
      "100/100 [==============================] - 0s 2ms/step - loss: 0.5227 - accuracy: 0.7433 - val_loss: 0.5167 - val_accuracy: 0.7191\n",
      "Epoch 11/100\n",
      "100/100 [==============================] - 0s 2ms/step - loss: 0.5298 - accuracy: 0.7400 - val_loss: 0.5050 - val_accuracy: 0.7317\n",
      "Epoch 12/100\n",
      "100/100 [==============================] - 0s 2ms/step - loss: 0.5220 - accuracy: 0.7483 - val_loss: 0.5179 - val_accuracy: 0.7263\n",
      "Epoch 13/100\n",
      "100/100 [==============================] - 0s 2ms/step - loss: 0.5224 - accuracy: 0.7410 - val_loss: 0.5118 - val_accuracy: 0.7299\n",
      "Epoch 14/100\n",
      "100/100 [==============================] - 0s 2ms/step - loss: 0.5234 - accuracy: 0.7380 - val_loss: 0.5196 - val_accuracy: 0.7156\n",
      "Epoch 15/100\n",
      "100/100 [==============================] - 0s 2ms/step - loss: 0.5190 - accuracy: 0.7493 - val_loss: 0.5134 - val_accuracy: 0.7388\n",
      "Epoch 16/100\n",
      "100/100 [==============================] - 0s 2ms/step - loss: 0.5202 - accuracy: 0.7407 - val_loss: 0.5172 - val_accuracy: 0.7245\n",
      "Epoch 17/100\n",
      "100/100 [==============================] - 0s 2ms/step - loss: 0.5209 - accuracy: 0.7387 - val_loss: 0.4957 - val_accuracy: 0.7406\n",
      "Epoch 18/100\n",
      "100/100 [==============================] - 0s 2ms/step - loss: 0.5172 - accuracy: 0.7477 - val_loss: 0.4999 - val_accuracy: 0.7496\n",
      "Epoch 19/100\n",
      "100/100 [==============================] - 0s 2ms/step - loss: 0.5164 - accuracy: 0.7443 - val_loss: 0.5037 - val_accuracy: 0.7406\n",
      "Epoch 20/100\n",
      "100/100 [==============================] - 0s 2ms/step - loss: 0.5157 - accuracy: 0.7487 - val_loss: 0.4983 - val_accuracy: 0.7352\n",
      "Epoch 21/100\n",
      "100/100 [==============================] - 0s 2ms/step - loss: 0.5071 - accuracy: 0.7427 - val_loss: 0.5077 - val_accuracy: 0.7370\n",
      "Epoch 22/100\n",
      "100/100 [==============================] - 0s 2ms/step - loss: 0.5158 - accuracy: 0.7483 - val_loss: 0.5099 - val_accuracy: 0.7156\n",
      "Epoch 23/100\n",
      "100/100 [==============================] - 0s 2ms/step - loss: 0.5159 - accuracy: 0.7470 - val_loss: 0.5112 - val_accuracy: 0.7209\n",
      "Epoch 24/100\n",
      "100/100 [==============================] - 0s 2ms/step - loss: 0.5101 - accuracy: 0.7477 - val_loss: 0.5046 - val_accuracy: 0.7352\n",
      "Epoch 25/100\n",
      "100/100 [==============================] - 0s 2ms/step - loss: 0.5086 - accuracy: 0.7530 - val_loss: 0.4935 - val_accuracy: 0.7513\n",
      "Epoch 26/100\n",
      "100/100 [==============================] - 0s 3ms/step - loss: 0.5188 - accuracy: 0.7423 - val_loss: 0.5010 - val_accuracy: 0.7406\n",
      "Epoch 27/100\n",
      "100/100 [==============================] - 0s 2ms/step - loss: 0.5079 - accuracy: 0.7497 - val_loss: 0.4980 - val_accuracy: 0.7424\n",
      "Epoch 28/100\n",
      "100/100 [==============================] - 0s 3ms/step - loss: 0.5142 - accuracy: 0.7470 - val_loss: 0.4926 - val_accuracy: 0.7496\n",
      "Epoch 29/100\n",
      "100/100 [==============================] - 0s 3ms/step - loss: 0.5061 - accuracy: 0.7523 - val_loss: 0.5129 - val_accuracy: 0.7478\n",
      "Epoch 30/100\n",
      "100/100 [==============================] - 0s 2ms/step - loss: 0.5115 - accuracy: 0.7480 - val_loss: 0.4986 - val_accuracy: 0.7299\n",
      "Epoch 31/100\n",
      "100/100 [==============================] - 0s 2ms/step - loss: 0.5102 - accuracy: 0.7457 - val_loss: 0.5051 - val_accuracy: 0.7549\n",
      "Epoch 32/100\n",
      "100/100 [==============================] - 0s 3ms/step - loss: 0.5165 - accuracy: 0.7480 - val_loss: 0.5007 - val_accuracy: 0.7442\n",
      "Epoch 33/100\n",
      "100/100 [==============================] - 0s 2ms/step - loss: 0.5087 - accuracy: 0.7463 - val_loss: 0.4918 - val_accuracy: 0.7549\n",
      "Epoch 34/100\n",
      "100/100 [==============================] - 0s 2ms/step - loss: 0.5075 - accuracy: 0.7433 - val_loss: 0.5016 - val_accuracy: 0.7496\n",
      "Epoch 35/100\n",
      "100/100 [==============================] - 0s 3ms/step - loss: 0.5015 - accuracy: 0.7473 - val_loss: 0.4887 - val_accuracy: 0.7567\n",
      "Epoch 36/100\n",
      "100/100 [==============================] - 0s 2ms/step - loss: 0.5009 - accuracy: 0.7490 - val_loss: 0.4910 - val_accuracy: 0.7603\n",
      "Epoch 37/100\n",
      "100/100 [==============================] - 0s 2ms/step - loss: 0.5038 - accuracy: 0.7500 - val_loss: 0.5166 - val_accuracy: 0.7317\n",
      "Epoch 38/100\n",
      "100/100 [==============================] - 0s 2ms/step - loss: 0.5075 - accuracy: 0.7577 - val_loss: 0.4901 - val_accuracy: 0.7531\n",
      "Epoch 39/100\n",
      "100/100 [==============================] - 0s 2ms/step - loss: 0.5089 - accuracy: 0.7567 - val_loss: 0.4959 - val_accuracy: 0.7513\n",
      "Epoch 40/100\n",
      "100/100 [==============================] - 0s 3ms/step - loss: 0.4986 - accuracy: 0.7540 - val_loss: 0.4934 - val_accuracy: 0.7460\n",
      "Epoch 41/100\n",
      "100/100 [==============================] - 0s 2ms/step - loss: 0.5095 - accuracy: 0.7467 - val_loss: 0.5211 - val_accuracy: 0.7335\n",
      "Epoch 42/100\n",
      "100/100 [==============================] - 0s 2ms/step - loss: 0.5042 - accuracy: 0.7557 - val_loss: 0.4946 - val_accuracy: 0.7424\n",
      "Epoch 43/100\n",
      "100/100 [==============================] - 0s 2ms/step - loss: 0.4989 - accuracy: 0.7590 - val_loss: 0.4920 - val_accuracy: 0.7531\n",
      "Epoch 44/100\n",
      "100/100 [==============================] - 0s 2ms/step - loss: 0.4997 - accuracy: 0.7550 - val_loss: 0.5020 - val_accuracy: 0.7352\n",
      "Epoch 45/100\n",
      "100/100 [==============================] - 0s 2ms/step - loss: 0.4981 - accuracy: 0.7520 - val_loss: 0.4858 - val_accuracy: 0.7728\n",
      "Epoch 46/100\n",
      "100/100 [==============================] - 0s 2ms/step - loss: 0.5041 - accuracy: 0.7527 - val_loss: 0.4948 - val_accuracy: 0.7531\n",
      "Epoch 47/100\n",
      "100/100 [==============================] - 0s 3ms/step - loss: 0.5029 - accuracy: 0.7550 - val_loss: 0.5062 - val_accuracy: 0.7406\n",
      "Epoch 48/100\n",
      "100/100 [==============================] - 0s 2ms/step - loss: 0.4976 - accuracy: 0.7507 - val_loss: 0.4908 - val_accuracy: 0.7567\n",
      "Epoch 49/100\n",
      "100/100 [==============================] - 0s 2ms/step - loss: 0.5018 - accuracy: 0.7517 - val_loss: 0.4996 - val_accuracy: 0.7299\n",
      "Epoch 50/100\n",
      "100/100 [==============================] - 0s 2ms/step - loss: 0.4990 - accuracy: 0.7613 - val_loss: 0.4836 - val_accuracy: 0.7460\n",
      "Epoch 51/100\n",
      "100/100 [==============================] - 0s 2ms/step - loss: 0.4965 - accuracy: 0.7557 - val_loss: 0.4892 - val_accuracy: 0.7478\n",
      "Epoch 52/100\n",
      "100/100 [==============================] - 0s 2ms/step - loss: 0.5051 - accuracy: 0.7503 - val_loss: 0.5013 - val_accuracy: 0.7478\n",
      "Epoch 53/100\n",
      "100/100 [==============================] - 0s 2ms/step - loss: 0.4952 - accuracy: 0.7483 - val_loss: 0.5063 - val_accuracy: 0.7406\n",
      "Epoch 54/100\n",
      "100/100 [==============================] - 0s 2ms/step - loss: 0.4978 - accuracy: 0.7620 - val_loss: 0.4944 - val_accuracy: 0.7442\n",
      "Epoch 55/100\n",
      "100/100 [==============================] - 0s 3ms/step - loss: 0.4915 - accuracy: 0.7543 - val_loss: 0.5020 - val_accuracy: 0.7496\n",
      "Epoch 56/100\n",
      "100/100 [==============================] - 0s 2ms/step - loss: 0.4981 - accuracy: 0.7600 - val_loss: 0.4911 - val_accuracy: 0.7513\n",
      "Epoch 57/100\n",
      "100/100 [==============================] - 0s 2ms/step - loss: 0.4988 - accuracy: 0.7530 - val_loss: 0.4887 - val_accuracy: 0.7496\n"
     ]
    },
    {
     "name": "stdout",
     "output_type": "stream",
     "text": [
      "Epoch 58/100\n",
      "100/100 [==============================] - 0s 2ms/step - loss: 0.4953 - accuracy: 0.7597 - val_loss: 0.4968 - val_accuracy: 0.7567\n",
      "Epoch 59/100\n",
      "100/100 [==============================] - 0s 2ms/step - loss: 0.4958 - accuracy: 0.7577 - val_loss: 0.4928 - val_accuracy: 0.7549\n",
      "Epoch 60/100\n",
      "100/100 [==============================] - 0s 2ms/step - loss: 0.4941 - accuracy: 0.7620 - val_loss: 0.4965 - val_accuracy: 0.7478\n",
      "Epoch 61/100\n",
      "100/100 [==============================] - 0s 2ms/step - loss: 0.5009 - accuracy: 0.7563 - val_loss: 0.4853 - val_accuracy: 0.7424\n",
      "Epoch 62/100\n",
      "100/100 [==============================] - 0s 2ms/step - loss: 0.4925 - accuracy: 0.7577 - val_loss: 0.4830 - val_accuracy: 0.7621\n",
      "Epoch 63/100\n",
      "100/100 [==============================] - 0s 2ms/step - loss: 0.5000 - accuracy: 0.7567 - val_loss: 0.4908 - val_accuracy: 0.7496\n",
      "Epoch 64/100\n",
      "100/100 [==============================] - 0s 2ms/step - loss: 0.4960 - accuracy: 0.7597 - val_loss: 0.5159 - val_accuracy: 0.7335\n",
      "Epoch 65/100\n",
      "100/100 [==============================] - 0s 2ms/step - loss: 0.4878 - accuracy: 0.7513 - val_loss: 0.5046 - val_accuracy: 0.7424\n",
      "Epoch 66/100\n",
      "100/100 [==============================] - 0s 2ms/step - loss: 0.4931 - accuracy: 0.7547 - val_loss: 0.4918 - val_accuracy: 0.7496\n",
      "Epoch 67/100\n",
      "100/100 [==============================] - 0s 2ms/step - loss: 0.4972 - accuracy: 0.7547 - val_loss: 0.4888 - val_accuracy: 0.7496\n",
      "Epoch 68/100\n",
      "100/100 [==============================] - 0s 2ms/step - loss: 0.4950 - accuracy: 0.7587 - val_loss: 0.4890 - val_accuracy: 0.7585\n",
      "Epoch 69/100\n",
      "100/100 [==============================] - 0s 2ms/step - loss: 0.4927 - accuracy: 0.7643 - val_loss: 0.5009 - val_accuracy: 0.7424\n",
      "Epoch 70/100\n",
      "100/100 [==============================] - 0s 2ms/step - loss: 0.4960 - accuracy: 0.7597 - val_loss: 0.4883 - val_accuracy: 0.7621\n",
      "Epoch 71/100\n",
      "100/100 [==============================] - 0s 2ms/step - loss: 0.4989 - accuracy: 0.7523 - val_loss: 0.4849 - val_accuracy: 0.7496\n",
      "Epoch 72/100\n",
      "100/100 [==============================] - 0s 3ms/step - loss: 0.4910 - accuracy: 0.7610 - val_loss: 0.4913 - val_accuracy: 0.7478\n",
      "Epoch 73/100\n",
      "100/100 [==============================] - 0s 2ms/step - loss: 0.4868 - accuracy: 0.7607 - val_loss: 0.5129 - val_accuracy: 0.7496\n",
      "Epoch 74/100\n",
      "100/100 [==============================] - 0s 2ms/step - loss: 0.4967 - accuracy: 0.7677 - val_loss: 0.4822 - val_accuracy: 0.7639\n",
      "Epoch 75/100\n",
      "100/100 [==============================] - 0s 2ms/step - loss: 0.4903 - accuracy: 0.7610 - val_loss: 0.4811 - val_accuracy: 0.7674\n",
      "Epoch 76/100\n",
      "100/100 [==============================] - 0s 2ms/step - loss: 0.4927 - accuracy: 0.7640 - val_loss: 0.5125 - val_accuracy: 0.7335\n",
      "Epoch 77/100\n",
      "100/100 [==============================] - 0s 2ms/step - loss: 0.4900 - accuracy: 0.7587 - val_loss: 0.4762 - val_accuracy: 0.7746\n",
      "Epoch 78/100\n",
      "100/100 [==============================] - 0s 2ms/step - loss: 0.4916 - accuracy: 0.7557 - val_loss: 0.4911 - val_accuracy: 0.7513\n",
      "Epoch 79/100\n",
      "100/100 [==============================] - 0s 2ms/step - loss: 0.4968 - accuracy: 0.7573 - val_loss: 0.4811 - val_accuracy: 0.7800\n",
      "Epoch 80/100\n",
      "100/100 [==============================] - 0s 2ms/step - loss: 0.4894 - accuracy: 0.7587 - val_loss: 0.4995 - val_accuracy: 0.7549\n",
      "Epoch 81/100\n",
      "100/100 [==============================] - 0s 2ms/step - loss: 0.4913 - accuracy: 0.7600 - val_loss: 0.4913 - val_accuracy: 0.7513\n",
      "Epoch 82/100\n",
      "100/100 [==============================] - 0s 2ms/step - loss: 0.4886 - accuracy: 0.7547 - val_loss: 0.5034 - val_accuracy: 0.7442\n",
      "Epoch 83/100\n",
      "100/100 [==============================] - 0s 2ms/step - loss: 0.4905 - accuracy: 0.7567 - val_loss: 0.4879 - val_accuracy: 0.7621\n",
      "Epoch 84/100\n",
      "100/100 [==============================] - 0s 2ms/step - loss: 0.4821 - accuracy: 0.7650 - val_loss: 0.5166 - val_accuracy: 0.7478\n",
      "Epoch 85/100\n",
      "100/100 [==============================] - 0s 2ms/step - loss: 0.4868 - accuracy: 0.7683 - val_loss: 0.4834 - val_accuracy: 0.7639\n",
      "Epoch 86/100\n",
      "100/100 [==============================] - 0s 2ms/step - loss: 0.4844 - accuracy: 0.7613 - val_loss: 0.4971 - val_accuracy: 0.7460\n",
      "Epoch 87/100\n",
      "100/100 [==============================] - 0s 2ms/step - loss: 0.4879 - accuracy: 0.7637 - val_loss: 0.4910 - val_accuracy: 0.7585\n",
      "Epoch 88/100\n",
      "100/100 [==============================] - 0s 2ms/step - loss: 0.4885 - accuracy: 0.7607 - val_loss: 0.4814 - val_accuracy: 0.7585\n",
      "Epoch 89/100\n",
      "100/100 [==============================] - 0s 3ms/step - loss: 0.4846 - accuracy: 0.7630 - val_loss: 0.4869 - val_accuracy: 0.7639\n",
      "Epoch 90/100\n",
      "100/100 [==============================] - 0s 2ms/step - loss: 0.4844 - accuracy: 0.7600 - val_loss: 0.5305 - val_accuracy: 0.7352\n",
      "Epoch 91/100\n",
      "100/100 [==============================] - 0s 3ms/step - loss: 0.4876 - accuracy: 0.7620 - val_loss: 0.4836 - val_accuracy: 0.7531\n",
      "Epoch 92/100\n",
      "100/100 [==============================] - 0s 2ms/step - loss: 0.4955 - accuracy: 0.7593 - val_loss: 0.4983 - val_accuracy: 0.7674\n",
      "Epoch 93/100\n",
      "100/100 [==============================] - 0s 2ms/step - loss: 0.4841 - accuracy: 0.7590 - val_loss: 0.4902 - val_accuracy: 0.7603\n",
      "Epoch 94/100\n",
      "100/100 [==============================] - 0s 2ms/step - loss: 0.4907 - accuracy: 0.7627 - val_loss: 0.4962 - val_accuracy: 0.7496\n",
      "Epoch 95/100\n",
      "100/100 [==============================] - 0s 2ms/step - loss: 0.4859 - accuracy: 0.7570 - val_loss: 0.4963 - val_accuracy: 0.7710\n",
      "Epoch 96/100\n",
      "100/100 [==============================] - 0s 3ms/step - loss: 0.4840 - accuracy: 0.7617 - val_loss: 0.5101 - val_accuracy: 0.7496\n",
      "Epoch 97/100\n",
      "100/100 [==============================] - 0s 2ms/step - loss: 0.4887 - accuracy: 0.7613 - val_loss: 0.4816 - val_accuracy: 0.7710\n",
      "Epoch 98/100\n",
      "100/100 [==============================] - 0s 2ms/step - loss: 0.4855 - accuracy: 0.7533 - val_loss: 0.4880 - val_accuracy: 0.7567\n",
      "Epoch 99/100\n",
      "100/100 [==============================] - 0s 2ms/step - loss: 0.4838 - accuracy: 0.7690 - val_loss: 0.4829 - val_accuracy: 0.7692\n",
      "Epoch 100/100\n",
      "100/100 [==============================] - 0s 2ms/step - loss: 0.4805 - accuracy: 0.7713 - val_loss: 0.4841 - val_accuracy: 0.7531\n",
      "Model: \"sequential_3\"\n",
      "_________________________________________________________________\n",
      "Layer (type)                 Output Shape              Param #   \n",
      "=================================================================\n",
      "dense_12 (Dense)             (None, 200)               6200      \n",
      "_________________________________________________________________\n",
      "dense_13 (Dense)             (None, 100)               20100     \n",
      "_________________________________________________________________\n",
      "dropout_3 (Dropout)          (None, 100)               0         \n",
      "_________________________________________________________________\n",
      "dense_14 (Dense)             (None, 1)                 101       \n",
      "=================================================================\n",
      "Total params: 26,401\n",
      "Trainable params: 26,401\n",
      "Non-trainable params: 0\n",
      "_________________________________________________________________\n",
      "Training accuracy: 0.7713333368301392\n",
      "Training loss: 0.4805135428905487\n",
      "\n",
      "Validation accuracy: 0.7531306147575378\n",
      "Validation loss: 0.4840790927410126\n"
     ]
    }
   ],
   "source": [
    "history = nn.fit(\n",
    "                X_train,\n",
    "                Y_train,\n",
    "                epochs=100,\n",
    "                batch_size=30,\n",
    "                validation_data=(X_test,Y_test)\n",
    "                )\n",
    "\n",
    "history_dict = history.history\n",
    "nn.summary()\n",
    "\n",
    "print(\"Training accuracy: \" + str(history_dict['accuracy'][-1]))\n",
    "print(\"Training loss: \" + str(history_dict['loss'][-1]) + \"\\n\")\n",
    "\n",
    "print(\"Validation accuracy: \" + str(history_dict['val_accuracy'][-1]))\n",
    "print(\"Validation loss: \" + str(history_dict['val_loss'][-1]))"
   ]
  },
  {
   "cell_type": "markdown",
   "metadata": {},
   "source": [
    "## Evaluating the Model\n",
    "\n",
    "After our training we get ~72% accuracy on our validation data. When looking at our loss, we can see that our model is indeed learning and it does not seem to be overfitting too much as the training and validation accuracies remain fairly consistent troughout training."
   ]
  },
  {
   "cell_type": "code",
   "execution_count": 40,
   "metadata": {},
   "outputs": [
    {
     "data": {
      "image/png": "[encoded data removed]",
      "text/plain": [
       "<Figure size 432x288 with 1 Axes>"
      ]
     },
     "metadata": {
      "needs_background": "light"
     },
     "output_type": "display_data"
    },
    {
     "data": {
      "text/plain": [
       "<Figure size 432x288 with 0 Axes>"
      ]
     },
     "metadata": {},
     "output_type": "display_data"
    }
   ],
   "source": [
    "loss_values = history_dict['loss']\n",
    "val_loss_values = history_dict['val_loss']\n",
    "epochs = range(1, len(loss_values) + 1)\n",
    "\n",
    "plt.plot(epochs, loss_values, 'bo', label='Training loss')\n",
    "plt.plot(epochs, val_loss_values, 'b', label='Validation loss')\n",
    "plt.title('Losses')\n",
    "plt.xlabel('Epoch')\n",
    "plt.ylabel('Loss Evaluation')\n",
    "plt.legend()\n",
    "plt.show()\n",
    "\n",
    "plt.clf()"
   ]
  },
  {
   "cell_type": "code",
   "execution_count": 41,
   "metadata": {},
   "outputs": [
    {
     "data": {
      "image/png": "[encoded data removed]",
      "text/plain": [
       "<Figure size 432x288 with 1 Axes>"
      ]
     },
     "metadata": {
      "needs_background": "light"
     },
     "output_type": "display_data"
    },
    {
     "data": {
      "text/plain": [
       "<Figure size 432x288 with 0 Axes>"
      ]
     },
     "metadata": {},
     "output_type": "display_data"
    }
   ],
   "source": [
    "loss_values = history_dict['accuracy']\n",
    "val_loss_values = history_dict['val_accuracy']\n",
    "epochs = range(1, len(loss_values) + 1)\n",
    "\n",
    "plt.plot(epochs, loss_values, 'bo', label='Training accuracy')\n",
    "plt.plot(epochs, val_loss_values, 'b', label='Validation accuracy')\n",
    "plt.title('Accuracy Evaluation')\n",
    "plt.xlabel('Epoch')\n",
    "plt.ylabel('Accuracy')\n",
    "plt.legend()\n",
    "plt.show()\n",
    "\n",
    "plt.clf()"
   ]
  },
  {
   "cell_type": "markdown",
   "metadata": {},
   "source": [
    "## The last step\n",
    "\n",
    "If we were happy with our model tuning the last step would be to save our model and evaluate on the test set."
   ]
  },
  {
   "cell_type": "code",
   "execution_count": null,
   "metadata": {},
   "outputs": [],
   "source": []
  }
 ],
 "metadata": {
  "kernelspec": {
   "display_name": "Python 3",
   "language": "python",
   "name": "python3"
  },
  "language_info": {
   "codemirror_mode": {
    "name": "ipython",
    "version": 3
   },
   "file_extension": ".py",
   "mimetype": "text/x-python",
   "name": "python",
   "nbconvert_exporter": "python",
   "pygments_lexer": "ipython3",
   "version": "3.8.5"
  }
 },
 "nbformat": 4,
 "nbformat_minor": 4
}

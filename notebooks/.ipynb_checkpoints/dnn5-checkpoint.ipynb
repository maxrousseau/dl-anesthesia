{
 "cells": [
  {
   "cell_type": "markdown",
   "metadata": {},
   "source": [
    "# Deep Neural Network with 5 Input Features\n",
    "\n",
    "In this notebook we will train a deep neural network using 5 input feature to perform binary classification of our dataset."
   ]
  },
  {
   "cell_type": "markdown",
   "metadata": {},
   "source": [
    "## Setup\n",
    "\n",
    "We first need to import the libraries and frameworks to help us create and train our model. \n",
    "\n",
    "- Numpy will allow us to manipulate our input data\n",
    "- Matplotlib gives us easy graphs to visualize performance\n",
    "- Sklearn helps us with data normalization and shuffling\n",
    "- Keras is our deep learning frameworks which makes it easy to create and train our model"
   ]
  },
  {
   "cell_type": "code",
   "execution_count": 1,
   "metadata": {},
   "outputs": [],
   "source": [
    "#!bin/env/python3\n",
    "import numpy as np\n",
    "import matplotlib.pyplot as plt\n",
    "\n",
    "from sklearn.preprocessing import Normalizer\n",
    "from sklearn.utils import shuffle\n",
    "\n",
    "from tensorflow.keras import models\n",
    "from tensorflow.keras import layers"
   ]
  },
  {
   "cell_type": "markdown",
   "metadata": {},
   "source": [
    "## Load Data\n",
    "\n",
    "Here we load the numpy array that we create previously. Let's check the dimension to make sure they are correctly formatted."
   ]
  },
  {
   "cell_type": "code",
   "execution_count": 3,
   "metadata": {},
   "outputs": [
    {
     "name": "stdout",
     "output_type": "stream",
     "text": [
      "X: (3559, 30)\n",
      "Y: (3559,)\n"
     ]
    }
   ],
   "source": [
    "X = np.load(\"../db/x3.npy\")\n",
    "Y = np.load(\"../db/y3.npy\")\n",
    "\n",
    "print(\"X: \" + str(X.shape))\n",
    "print(\"Y: \" + str(Y.shape))"
   ]
  },
  {
   "cell_type": "markdown",
   "metadata": {},
   "source": [
    "## Data Preparation\n",
    "\n",
    "The neural network will perform better during training if data is normalized. We also want to shuffle the inputs to avoid training out model on a skewed dataset."
   ]
  },
  {
   "cell_type": "code",
   "execution_count": 30,
   "metadata": {},
   "outputs": [],
   "source": [
    "transformer = Normalizer().fit(X)\n",
    "X = transformer.transform(X) # normalizes data according to columns\n",
    "X, Y = shuffle(X, Y, random_state=0) # shuffle the samples"
   ]
  },
  {
   "cell_type": "markdown",
   "metadata": {},
   "source": [
    "## Training - Test Split\n",
    "\n",
    "Ideally we would split our dataset into a training, validation and test set. For this example we will only use a training and validation set. The training set will have 3000 samples and the validation set will contain the remaining samples."
   ]
  },
  {
   "cell_type": "code",
   "execution_count": 8,
   "metadata": {},
   "outputs": [
    {
     "name": "stdout",
     "output_type": "stream",
     "text": [
      "Input training tensor: (3000, 30)\n",
      "Label training tensor: (3000,)\n",
      "\n",
      "Input validation tensor: (559, 30)\n",
      "Label validation tensor: (559,)\n"
     ]
    }
   ],
   "source": [
    "X_train = X[:3000]\n",
    "Y_train = Y[:3000]\n",
    "\n",
    "\n",
    "X_test = X[3000:]\n",
    "Y_test = Y[3000:]\n",
    "\n",
    "# 3000 training samples\n",
    "print(\"Input training tensor: \" + str(X_train.shape))\n",
    "print(\"Label training tensor: \" + str(Y_train.shape) + \"\\n\")\n",
    "\n",
    "# 559 test/validation samples\n",
    "print(\"Input validation tensor: \" + str(X_test.shape))\n",
    "print(\"Label validation tensor: \" + str(Y_test.shape))"
   ]
  },
  {
   "cell_type": "markdown",
   "metadata": {},
   "source": [
    "## Defining our model\n",
    "\n",
    "Here we finally create our model which in this case will be fully connected deep neural network with three hidden layer and a dropout layer. \n",
    "\n",
    "We also choose an optimizer (RMSprop), a loss function (binary crossentropy) and our metric for evaluation (accuracy).\n",
    "\n",
    "We can also take a look at the size of our model"
   ]
  },
  {
   "cell_type": "code",
   "execution_count": 35,
   "metadata": {},
   "outputs": [],
   "source": [
    "nn = models.Sequential()\n",
    "nn.add(layers.Dense(400, activation='relu', input_shape=(30,)))\n",
    "nn.add(layers.Dense(200, activation='relu'))\n",
    "nn.add(layers.Dense(100, activation='relu'))\n",
    "nn.add(layers.Dropout(0.5))\n",
    "nn.add(layers.Dense(1, activation='sigmoid'))\n",
    "\n",
    "nn.compile(\n",
    "        optimizer='rmsprop',\n",
    "        loss='binary_crossentropy',\n",
    "        metrics=['accuracy']\n",
    "        )"
   ]
  },
  {
   "cell_type": "markdown",
   "metadata": {},
   "source": [
    "# Training\n",
    "\n",
    "Here we actually train the model we defined above. We can specify the batch size (30) and the number of epochs. We also specify the validation set to evaluate how our model performs on data it has never seen after each epochs. This is important so that we can identify when the model begin to overfit to the training data"
   ]
  },
  {
   "cell_type": "code",
   "execution_count": 34,
   "metadata": {},
   "outputs": [
    {
     "name": "stdout",
     "output_type": "stream",
     "text": [
      "Epoch 1/40\n",
      "100/100 [==============================] - 0s 4ms/step - loss: 0.4904 - accuracy: 0.7623 - val_loss: 0.5260 - val_accuracy: 0.7460\n",
      "Epoch 2/40\n",
      "100/100 [==============================] - 0s 3ms/step - loss: 0.4921 - accuracy: 0.7523 - val_loss: 0.5169 - val_accuracy: 0.7513\n",
      "Epoch 3/40\n",
      "100/100 [==============================] - 0s 4ms/step - loss: 0.4919 - accuracy: 0.7590 - val_loss: 0.5197 - val_accuracy: 0.7442\n",
      "Epoch 4/40\n",
      "100/100 [==============================] - 0s 4ms/step - loss: 0.4892 - accuracy: 0.7587 - val_loss: 0.5403 - val_accuracy: 0.7174\n",
      "Epoch 5/40\n",
      "100/100 [==============================] - 0s 3ms/step - loss: 0.4885 - accuracy: 0.7580 - val_loss: 0.4798 - val_accuracy: 0.7621\n",
      "Epoch 6/40\n",
      "100/100 [==============================] - 0s 4ms/step - loss: 0.4885 - accuracy: 0.7603 - val_loss: 0.4756 - val_accuracy: 0.7710\n",
      "Epoch 7/40\n",
      "100/100 [==============================] - 0s 4ms/step - loss: 0.4802 - accuracy: 0.7677 - val_loss: 0.5626 - val_accuracy: 0.7388\n",
      "Epoch 8/40\n",
      "100/100 [==============================] - 0s 5ms/step - loss: 0.4855 - accuracy: 0.7593 - val_loss: 0.4913 - val_accuracy: 0.7603\n",
      "Epoch 9/40\n",
      "100/100 [==============================] - 0s 4ms/step - loss: 0.4890 - accuracy: 0.7627 - val_loss: 0.4811 - val_accuracy: 0.7603\n",
      "Epoch 10/40\n",
      "100/100 [==============================] - 0s 4ms/step - loss: 0.4781 - accuracy: 0.7710 - val_loss: 0.4853 - val_accuracy: 0.7728\n",
      "Epoch 11/40\n",
      "100/100 [==============================] - 0s 4ms/step - loss: 0.4818 - accuracy: 0.7700 - val_loss: 0.4898 - val_accuracy: 0.7603\n",
      "Epoch 12/40\n",
      "100/100 [==============================] - 0s 4ms/step - loss: 0.4814 - accuracy: 0.7673 - val_loss: 0.5187 - val_accuracy: 0.7567\n",
      "Epoch 13/40\n",
      "100/100 [==============================] - 0s 4ms/step - loss: 0.4826 - accuracy: 0.7680 - val_loss: 0.4889 - val_accuracy: 0.7800\n",
      "Epoch 14/40\n",
      "100/100 [==============================] - 0s 4ms/step - loss: 0.4811 - accuracy: 0.7707 - val_loss: 0.4939 - val_accuracy: 0.7603\n",
      "Epoch 15/40\n",
      "100/100 [==============================] - 0s 4ms/step - loss: 0.4721 - accuracy: 0.7720 - val_loss: 0.5160 - val_accuracy: 0.7567\n",
      "Epoch 16/40\n",
      "100/100 [==============================] - 0s 4ms/step - loss: 0.4786 - accuracy: 0.7627 - val_loss: 0.4910 - val_accuracy: 0.7657\n",
      "Epoch 17/40\n",
      "100/100 [==============================] - 0s 4ms/step - loss: 0.4726 - accuracy: 0.7733 - val_loss: 0.5681 - val_accuracy: 0.7120\n",
      "Epoch 18/40\n",
      "100/100 [==============================] - 0s 4ms/step - loss: 0.4821 - accuracy: 0.7707 - val_loss: 0.4866 - val_accuracy: 0.7639\n",
      "Epoch 19/40\n",
      "100/100 [==============================] - 0s 4ms/step - loss: 0.4782 - accuracy: 0.7663 - val_loss: 0.5226 - val_accuracy: 0.7460\n",
      "Epoch 20/40\n",
      "100/100 [==============================] - 0s 4ms/step - loss: 0.4702 - accuracy: 0.7693 - val_loss: 0.5187 - val_accuracy: 0.7728\n",
      "Epoch 21/40\n",
      "100/100 [==============================] - 0s 4ms/step - loss: 0.4726 - accuracy: 0.7733 - val_loss: 0.5001 - val_accuracy: 0.7513\n",
      "Epoch 22/40\n",
      "100/100 [==============================] - 0s 4ms/step - loss: 0.4786 - accuracy: 0.7720 - val_loss: 0.5011 - val_accuracy: 0.7692\n",
      "Epoch 23/40\n",
      "100/100 [==============================] - 0s 4ms/step - loss: 0.4817 - accuracy: 0.7717 - val_loss: 0.4883 - val_accuracy: 0.7639\n",
      "Epoch 24/40\n",
      "100/100 [==============================] - 0s 4ms/step - loss: 0.4739 - accuracy: 0.7720 - val_loss: 0.5023 - val_accuracy: 0.7621\n",
      "Epoch 25/40\n",
      "100/100 [==============================] - 1s 5ms/step - loss: 0.4631 - accuracy: 0.7743 - val_loss: 0.4891 - val_accuracy: 0.7621\n",
      "Epoch 26/40\n",
      "100/100 [==============================] - 0s 4ms/step - loss: 0.4685 - accuracy: 0.7710 - val_loss: 0.5134 - val_accuracy: 0.7549\n",
      "Epoch 27/40\n",
      "100/100 [==============================] - 0s 5ms/step - loss: 0.4738 - accuracy: 0.7763 - val_loss: 0.4842 - val_accuracy: 0.7728\n",
      "Epoch 28/40\n",
      "100/100 [==============================] - 0s 4ms/step - loss: 0.4785 - accuracy: 0.7730 - val_loss: 0.4972 - val_accuracy: 0.7549\n",
      "Epoch 29/40\n",
      "100/100 [==============================] - 0s 4ms/step - loss: 0.4664 - accuracy: 0.7740 - val_loss: 0.4868 - val_accuracy: 0.7728\n",
      "Epoch 30/40\n",
      "100/100 [==============================] - 0s 4ms/step - loss: 0.4681 - accuracy: 0.7770 - val_loss: 0.5648 - val_accuracy: 0.7370\n",
      "Epoch 31/40\n",
      "100/100 [==============================] - 0s 4ms/step - loss: 0.4726 - accuracy: 0.7753 - val_loss: 0.5374 - val_accuracy: 0.7603\n",
      "Epoch 32/40\n",
      "100/100 [==============================] - 0s 4ms/step - loss: 0.4701 - accuracy: 0.7777 - val_loss: 0.4849 - val_accuracy: 0.7496\n",
      "Epoch 33/40\n",
      "100/100 [==============================] - 0s 5ms/step - loss: 0.4755 - accuracy: 0.7793 - val_loss: 0.5620 - val_accuracy: 0.7317\n",
      "Epoch 34/40\n",
      "100/100 [==============================] - 0s 4ms/step - loss: 0.4674 - accuracy: 0.7800 - val_loss: 0.4985 - val_accuracy: 0.7549\n",
      "Epoch 35/40\n",
      "100/100 [==============================] - 0s 3ms/step - loss: 0.4623 - accuracy: 0.7827 - val_loss: 0.5528 - val_accuracy: 0.7388\n",
      "Epoch 36/40\n",
      "100/100 [==============================] - 0s 3ms/step - loss: 0.4684 - accuracy: 0.7730 - val_loss: 0.5130 - val_accuracy: 0.7567\n",
      "Epoch 37/40\n",
      "100/100 [==============================] - 0s 4ms/step - loss: 0.4629 - accuracy: 0.7723 - val_loss: 0.5733 - val_accuracy: 0.7299\n",
      "Epoch 38/40\n",
      "100/100 [==============================] - 0s 3ms/step - loss: 0.4635 - accuracy: 0.7820 - val_loss: 0.5147 - val_accuracy: 0.7657\n",
      "Epoch 39/40\n",
      "100/100 [==============================] - 0s 4ms/step - loss: 0.4633 - accuracy: 0.7770 - val_loss: 0.5253 - val_accuracy: 0.7639\n",
      "Epoch 40/40\n",
      "100/100 [==============================] - 0s 4ms/step - loss: 0.4619 - accuracy: 0.7743 - val_loss: 0.5507 - val_accuracy: 0.7531\n",
      "Model: \"sequential_1\"\n",
      "_________________________________________________________________\n",
      "Layer (type)                 Output Shape              Param #   \n",
      "=================================================================\n",
      "dense_4 (Dense)              (None, 400)               12400     \n",
      "_________________________________________________________________\n",
      "dense_5 (Dense)              (None, 200)               80200     \n",
      "_________________________________________________________________\n",
      "dense_6 (Dense)              (None, 100)               20100     \n",
      "_________________________________________________________________\n",
      "dropout_1 (Dropout)          (None, 100)               0         \n",
      "_________________________________________________________________\n",
      "dense_7 (Dense)              (None, 1)                 101       \n",
      "=================================================================\n",
      "Total params: 112,801\n",
      "Trainable params: 112,801\n",
      "Non-trainable params: 0\n",
      "_________________________________________________________________\n",
      "Training accuracy: 0.7743333578109741\n",
      "Training loss: 0.46193358302116394\n",
      "\n",
      "Validation accuracy: 0.7531306147575378\n",
      "Validation loss: 0.5506868362426758\n"
     ]
    }
   ],
   "source": [
    "history = nn.fit(\n",
    "                X_train,\n",
    "                Y_train,\n",
    "                epochs=40,\n",
    "                batch_size=30,\n",
    "                validation_data=(X_test,Y_test)\n",
    "                )\n",
    "\n",
    "history_dict = history.history\n",
    "nn.summary()\n",
    "\n",
    "print(\"Training accuracy: \" + str(history_dict['accuracy'][-1]))\n",
    "print(\"Training loss: \" + str(history_dict['loss'][-1]) + \"\\n\")\n",
    "\n",
    "print(\"Validation accuracy: \" + str(history_dict['val_accuracy'][-1]))\n",
    "print(\"Validation loss: \" + str(history_dict['val_loss'][-1]))"
   ]
  },
  {
   "cell_type": "markdown",
   "metadata": {},
   "source": [
    "## Evaluating the Model\n",
    "\n",
    "After our training we get ~72% accuracy on our validation data. When looking at our loss, we can see that our model is indeed learning and it does not seem to be overfitting too much as the training and validation accuracies remain fairly consistent troughout training."
   ]
  },
  {
   "cell_type": "code",
   "execution_count": 32,
   "metadata": {},
   "outputs": [
    {
     "data": {
      "image/png": "[encoded data removed]",
      "text/plain": [
       "<Figure size 432x288 with 1 Axes>"
      ]
     },
     "metadata": {
      "needs_background": "light"
     },
     "output_type": "display_data"
    },
    {
     "data": {
      "text/plain": [
       "<Figure size 432x288 with 0 Axes>"
      ]
     },
     "metadata": {},
     "output_type": "display_data"
    }
   ],
   "source": [
    "loss_values = history_dict['loss']\n",
    "val_loss_values = history_dict['val_loss']\n",
    "epochs = range(1, len(loss_values) + 1)\n",
    "\n",
    "plt.plot(epochs, loss_values, 'bo', label='Training loss')\n",
    "plt.plot(epochs, val_loss_values, 'b', label='Validation loss')\n",
    "plt.title('Losses')\n",
    "plt.xlabel('Epoch')\n",
    "plt.ylabel('Loss Evaluation')\n",
    "plt.legend()\n",
    "plt.show()\n",
    "\n",
    "plt.clf()"
   ]
  },
  {
   "cell_type": "code",
   "execution_count": 33,
   "metadata": {},
   "outputs": [
    {
     "data": {
      "image/png": "[encoded data removed]",
      "text/plain": [
       "<Figure size 432x288 with 1 Axes>"
      ]
     },
     "metadata": {
      "needs_background": "light"
     },
     "output_type": "display_data"
    },
    {
     "data": {
      "text/plain": [
       "<Figure size 432x288 with 0 Axes>"
      ]
     },
     "metadata": {},
     "output_type": "display_data"
    }
   ],
   "source": [
    "loss_values = history_dict['accuracy']\n",
    "val_loss_values = history_dict['val_accuracy']\n",
    "epochs = range(1, len(loss_values) + 1)\n",
    "\n",
    "plt.plot(epochs, loss_values, 'bo', label='Training accuracy')\n",
    "plt.plot(epochs, val_loss_values, 'b', label='Validation accuracy')\n",
    "plt.title('Accuracy Evaluation')\n",
    "plt.xlabel('Epoch')\n",
    "plt.ylabel('Accuracy')\n",
    "plt.legend()\n",
    "plt.show()\n",
    "\n",
    "plt.clf()"
   ]
  },
  {
   "cell_type": "markdown",
   "metadata": {},
   "source": [
    "## The last step\n",
    "\n",
    "If we were happy with our model tuning the last step would be to save our model and evaluate on the test set."
   ]
  },
  {
   "cell_type": "code",
   "execution_count": null,
   "metadata": {},
   "outputs": [],
   "source": []
  }
 ],
 "metadata": {
  "kernelspec": {
   "display_name": "Python 3",
   "language": "python",
   "name": "python3"
  },
  "language_info": {
   "codemirror_mode": {
    "name": "ipython",
    "version": 3
   },
   "file_extension": ".py",
   "mimetype": "text/x-python",
   "name": "python",
   "nbconvert_exporter": "python",
   "pygments_lexer": "ipython3",
   "version": "3.8.5"
  }
 },
 "nbformat": 4,
 "nbformat_minor": 4
}
